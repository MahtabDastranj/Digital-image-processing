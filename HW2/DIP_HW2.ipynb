{
  "nbformat": 4,
  "nbformat_minor": 0,
  "metadata": {
    "colab": {
      "provenance": []
    },
    "kernelspec": {
      "name": "python3",
      "display_name": "Python 3"
    },
    "language_info": {
      "name": "python"
    }
  },
  "cells": [
    {
      "cell_type": "markdown",
      "source": [
        "# Question 1"
      ],
      "metadata": {
        "id": "R20wBEHAGDca"
      }
    },
    {
      "cell_type": "code",
      "source": [
        "# write your function here"
      ],
      "metadata": {
        "id": "0m1BrcOAGE6-"
      },
      "execution_count": null,
      "outputs": []
    },
    {
      "cell_type": "code",
      "source": [
        "# load image and use your function here"
      ],
      "metadata": {
        "id": "_LzgGFqUHQ-U"
      },
      "execution_count": null,
      "outputs": []
    },
    {
      "cell_type": "markdown",
      "source": [
        "# Question 2"
      ],
      "metadata": {
        "id": "XKFenvDKHXJr"
      }
    },
    {
      "cell_type": "markdown",
      "source": [
        "## alef"
      ],
      "metadata": {
        "id": "GnVvVgNIHcEL"
      }
    },
    {
      "cell_type": "code",
      "source": [],
      "metadata": {
        "id": "dTLZgJjRHZsl"
      },
      "execution_count": null,
      "outputs": []
    },
    {
      "cell_type": "markdown",
      "source": [
        "## be"
      ],
      "metadata": {
        "id": "0eNV1q5hHahs"
      }
    },
    {
      "cell_type": "code",
      "source": [],
      "metadata": {
        "id": "6y8s6sbDHgHU"
      },
      "execution_count": null,
      "outputs": []
    },
    {
      "cell_type": "markdown",
      "source": [
        "## pe"
      ],
      "metadata": {
        "id": "j5xBZRaVHg5k"
      }
    },
    {
      "cell_type": "code",
      "source": [],
      "metadata": {
        "id": "lCoBvR7PHibd"
      },
      "execution_count": null,
      "outputs": []
    },
    {
      "cell_type": "markdown",
      "source": [
        "## te"
      ],
      "metadata": {
        "id": "DvIr7TceHkE7"
      }
    },
    {
      "cell_type": "code",
      "source": [],
      "metadata": {
        "id": "x82XE-lpHk0i"
      },
      "execution_count": null,
      "outputs": []
    },
    {
      "cell_type": "markdown",
      "source": [
        "## se"
      ],
      "metadata": {
        "id": "T0Hm2a6kHlcs"
      }
    },
    {
      "cell_type": "code",
      "source": [],
      "metadata": {
        "id": "-tD-OsICHnY8"
      },
      "execution_count": null,
      "outputs": []
    },
    {
      "cell_type": "markdown",
      "source": [
        "# Question 3"
      ],
      "metadata": {
        "id": "aMxEGFnxHocT"
      }
    },
    {
      "cell_type": "markdown",
      "source": [
        "## alef"
      ],
      "metadata": {
        "id": "9dml1Mp0HtoL"
      }
    },
    {
      "cell_type": "code",
      "source": [],
      "metadata": {
        "id": "Rc4m-ItZHrMz"
      },
      "execution_count": null,
      "outputs": []
    },
    {
      "cell_type": "markdown",
      "source": [
        "## be"
      ],
      "metadata": {
        "id": "gA1YEjU_HvSz"
      }
    },
    {
      "cell_type": "code",
      "source": [],
      "metadata": {
        "id": "7ZhvUJuTHxza"
      },
      "execution_count": null,
      "outputs": []
    },
    {
      "cell_type": "markdown",
      "source": [
        "## pe"
      ],
      "metadata": {
        "id": "wZg4l8hsH0K0"
      }
    },
    {
      "cell_type": "code",
      "source": [],
      "metadata": {
        "id": "NRrnNEl-H1f6"
      },
      "execution_count": null,
      "outputs": []
    },
    {
      "cell_type": "markdown",
      "source": [
        "## te"
      ],
      "metadata": {
        "id": "L1IFLWrvH5sg"
      }
    },
    {
      "cell_type": "code",
      "source": [],
      "metadata": {
        "id": "qwxFnEtrH6Xb"
      },
      "execution_count": null,
      "outputs": []
    },
    {
      "cell_type": "markdown",
      "source": [
        "## se"
      ],
      "metadata": {
        "id": "GVunEeWQH7kk"
      }
    },
    {
      "cell_type": "code",
      "source": [],
      "metadata": {
        "id": "cynI1d3oH8dS"
      },
      "execution_count": null,
      "outputs": []
    }
  ]
}